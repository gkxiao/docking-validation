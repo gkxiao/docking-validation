{
 "cells": [
  {
   "cell_type": "code",
   "execution_count": 1,
   "id": "85f93c96",
   "metadata": {},
   "outputs": [],
   "source": [
    "import os\n",
    "os.chdir('/public/gkxiao/work/dude_ls/abl1')"
   ]
  },
  {
   "cell_type": "code",
   "execution_count": 2,
   "id": "66d54fe7",
   "metadata": {},
   "outputs": [],
   "source": [
    "import pandas as pd\n",
    "import numpy as np\n",
    "from rdkit.ML.Scoring import metrics\n",
    "# the metrics is stolen from oddt\n",
    "# https://github.com/oddt/oddt"
   ]
  },
  {
   "cell_type": "markdown",
   "id": "334f82f5",
   "metadata": {},
   "source": [
    "read the LigandScout score"
   ]
  },
  {
   "cell_type": "code",
   "execution_count": 3,
   "id": "193c40cf",
   "metadata": {},
   "outputs": [],
   "source": [
    "df = pd.read_csv('all_score.csv')"
   ]
  },
  {
   "cell_type": "code",
   "execution_count": 4,
   "id": "67e634f2",
   "metadata": {},
   "outputs": [
    {
     "data": {
      "text/html": [
       "<div>\n",
       "<style scoped>\n",
       "    .dataframe tbody tr th:only-of-type {\n",
       "        vertical-align: middle;\n",
       "    }\n",
       "\n",
       "    .dataframe tbody tr th {\n",
       "        vertical-align: top;\n",
       "    }\n",
       "\n",
       "    .dataframe thead th {\n",
       "        text-align: right;\n",
       "    }\n",
       "</style>\n",
       "<table border=\"1\" class=\"dataframe\">\n",
       "  <thead>\n",
       "    <tr style=\"text-align: right;\">\n",
       "      <th></th>\n",
       "      <th>Title</th>\n",
       "      <th>label</th>\n",
       "      <th>Score</th>\n",
       "    </tr>\n",
       "  </thead>\n",
       "  <tbody>\n",
       "    <tr>\n",
       "      <th>0</th>\n",
       "      <td>CHEMBL1169875</td>\n",
       "      <td>active</td>\n",
       "      <td>56.016970</td>\n",
       "    </tr>\n",
       "    <tr>\n",
       "      <th>1</th>\n",
       "      <td>CHEMBL1171280</td>\n",
       "      <td>active</td>\n",
       "      <td>56.244408</td>\n",
       "    </tr>\n",
       "    <tr>\n",
       "      <th>2</th>\n",
       "      <td>CHEMBL1214141</td>\n",
       "      <td>active</td>\n",
       "      <td>57.994644</td>\n",
       "    </tr>\n",
       "    <tr>\n",
       "      <th>3</th>\n",
       "      <td>CHEMBL1214142</td>\n",
       "      <td>active</td>\n",
       "      <td>57.960888</td>\n",
       "    </tr>\n",
       "    <tr>\n",
       "      <th>4</th>\n",
       "      <td>CHEMBL1421</td>\n",
       "      <td>active</td>\n",
       "      <td>58.082070</td>\n",
       "    </tr>\n",
       "  </tbody>\n",
       "</table>\n",
       "</div>"
      ],
      "text/plain": [
       "           Title   label      Score\n",
       "0  CHEMBL1169875  active  56.016970\n",
       "1  CHEMBL1171280  active  56.244408\n",
       "2  CHEMBL1214141  active  57.994644\n",
       "3  CHEMBL1214142  active  57.960888\n",
       "4     CHEMBL1421  active  58.082070"
      ]
     },
     "execution_count": 4,
     "metadata": {},
     "output_type": "execute_result"
    }
   ],
   "source": [
    "df.head(5)"
   ]
  },
  {
   "cell_type": "code",
   "execution_count": 5,
   "id": "015f2dc8",
   "metadata": {},
   "outputs": [],
   "source": [
    "df_sorted = df.sort_values(by=['Score'],ascending=False)"
   ]
  },
  {
   "cell_type": "code",
   "execution_count": 6,
   "id": "4d900355",
   "metadata": {},
   "outputs": [
    {
     "data": {
      "text/html": [
       "<div>\n",
       "<style scoped>\n",
       "    .dataframe tbody tr th:only-of-type {\n",
       "        vertical-align: middle;\n",
       "    }\n",
       "\n",
       "    .dataframe tbody tr th {\n",
       "        vertical-align: top;\n",
       "    }\n",
       "\n",
       "    .dataframe thead th {\n",
       "        text-align: right;\n",
       "    }\n",
       "</style>\n",
       "<table border=\"1\" class=\"dataframe\">\n",
       "  <thead>\n",
       "    <tr style=\"text-align: right;\">\n",
       "      <th></th>\n",
       "      <th>Title</th>\n",
       "      <th>label</th>\n",
       "      <th>Score</th>\n",
       "    </tr>\n",
       "  </thead>\n",
       "  <tbody>\n",
       "    <tr>\n",
       "      <th>235</th>\n",
       "      <td>ZINC08820798</td>\n",
       "      <td>decoy</td>\n",
       "      <td>66.20954</td>\n",
       "    </tr>\n",
       "    <tr>\n",
       "      <th>446</th>\n",
       "      <td>ZINC59364347</td>\n",
       "      <td>decoy</td>\n",
       "      <td>65.91436</td>\n",
       "    </tr>\n",
       "    <tr>\n",
       "      <th>322</th>\n",
       "      <td>ZINC21605861</td>\n",
       "      <td>decoy</td>\n",
       "      <td>65.17943</td>\n",
       "    </tr>\n",
       "    <tr>\n",
       "      <th>41</th>\n",
       "      <td>CHEMBL585666</td>\n",
       "      <td>active</td>\n",
       "      <td>58.09214</td>\n",
       "    </tr>\n",
       "    <tr>\n",
       "      <th>4</th>\n",
       "      <td>CHEMBL1421</td>\n",
       "      <td>active</td>\n",
       "      <td>58.08207</td>\n",
       "    </tr>\n",
       "  </tbody>\n",
       "</table>\n",
       "</div>"
      ],
      "text/plain": [
       "            Title   label     Score\n",
       "235  ZINC08820798   decoy  66.20954\n",
       "446  ZINC59364347   decoy  65.91436\n",
       "322  ZINC21605861   decoy  65.17943\n",
       "41   CHEMBL585666  active  58.09214\n",
       "4      CHEMBL1421  active  58.08207"
      ]
     },
     "execution_count": 6,
     "metadata": {},
     "output_type": "execute_result"
    }
   ],
   "source": [
    "df_sorted.head(5)"
   ]
  },
  {
   "cell_type": "code",
   "execution_count": 7,
   "id": "a017a850",
   "metadata": {},
   "outputs": [],
   "source": [
    "y = df_sorted['label']\n",
    "label_map = {'active': 1, 'decoy': 0}\n",
    "labels = [label_map[y_true] for y_true in y]\n",
    "score = df_sorted['Score']\n",
    "\n",
    "x=np.array(score)\n",
    "y=np.array(labels)"
   ]
  },
  {
   "cell_type": "code",
   "execution_count": 8,
   "id": "eba1e78d",
   "metadata": {},
   "outputs": [
    {
     "name": "stdout",
     "output_type": "stream",
     "text": [
      "ROC AUC =  0.6038101578302584\n"
     ]
    }
   ],
   "source": [
    "auc = metrics.roc_auc(y, x, pos_label=1, ascending_score=False)\n",
    "print(\"ROC AUC = \",auc)"
   ]
  },
  {
   "cell_type": "code",
   "execution_count": 9,
   "id": "cda739eb",
   "metadata": {},
   "outputs": [
    {
     "name": "stdout",
     "output_type": "stream",
     "text": [
      "alpha=20.0 BEDROC =  0.2494189734573182\n"
     ]
    }
   ],
   "source": [
    "bedroc = metrics.bedroc(y, x, alpha=20.0, pos_label=1)\n",
    "print(\"alpha=20.0 BEDROC = \",bedroc)"
   ]
  },
  {
   "cell_type": "code",
   "execution_count": 10,
   "id": "1c319091",
   "metadata": {},
   "outputs": [
    {
     "name": "stdout",
     "output_type": "stream",
     "text": [
      "EF at 1% =  20.742457542457544\n"
     ]
    }
   ],
   "source": [
    "ef = metrics.enrichment_factor(y, x, percentage=1, pos_label=1, kind='fold')\n",
    "print(\"EF at 1% = \",ef)"
   ]
  },
  {
   "cell_type": "code",
   "execution_count": 11,
   "id": "cd1f6c6e",
   "metadata": {},
   "outputs": [
    {
     "name": "stdout",
     "output_type": "stream",
     "text": [
      "logAUC [0.1%,100%]  =  0.40780652613488527\n"
     ]
    }
   ],
   "source": [
    "logauc = metrics.roc_log_auc(y, x, pos_label=1, ascending_score=False, log_min=0.001, log_max=1.0)\n",
    "print(\"logAUC [0.1%,100%]  = \",logauc)"
   ]
  },
  {
   "cell_type": "code",
   "execution_count": null,
   "id": "0459bbc9",
   "metadata": {},
   "outputs": [],
   "source": []
  }
 ],
 "metadata": {
  "kernelspec": {
   "display_name": "Python 3",
   "language": "python",
   "name": "python3"
  },
  "language_info": {
   "codemirror_mode": {
    "name": "ipython",
    "version": 3
   },
   "file_extension": ".py",
   "mimetype": "text/x-python",
   "name": "python",
   "nbconvert_exporter": "python",
   "pygments_lexer": "ipython3",
   "version": "3.6.6"
  }
 },
 "nbformat": 4,
 "nbformat_minor": 5
}
