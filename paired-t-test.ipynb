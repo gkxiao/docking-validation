{
 "cells": [
  {
   "cell_type": "markdown",
   "id": "39982d01",
   "metadata": {},
   "source": [
    "<h2>Introduction</h2>\n",
    "<p>A paired samples t-test is used to compare the means of two samples when each observation in one sample can be paired with an observation in the other sample.</p>\n",
    "\n",
    "<p>This tutorial explains how to conduct a paired samples t-test in Python.</p>\n",
    "\n",
    "<h2>Example: Paired Samples T-Test in Python</h2>\n",
    "<p>Suppose we want to know whether a certain study program significantly impacts student performance on a particular exam. To test this, we have 15 students in a class take a pre-test. Then, we have each of the students participate in the study program for two weeks. Then, the students retake a test of similar difficulty.</p>\n",
    "\n",
    "<p>To compare the difference between the mean scores on the first and second test, we use a paired samples t-test because for each student their first test score can be paired with their second test score.</p>\n",
    "\n",
    "<p>Perform the following steps to conduct a paired samples t-test in Python.</p>\n",
    "\n",
    "<h3>Step 1: Create the data.</h3>\n",
    "<p>First, we’ll create two arrays to hold the pre and post-test scores:</p>"
   ]
  },
  {
   "cell_type": "code",
   "execution_count": 1,
   "id": "20e2a87f",
   "metadata": {},
   "outputs": [],
   "source": [
    "pre = [88, 82, 84, 93, 75, 78, 84, 87, 95, 91, 83, 89, 77, 68, 91]\n",
    "post = [91, 84, 88, 90, 79, 80, 88, 90, 90, 96, 88, 89, 81, 74, 92]"
   ]
  },
  {
   "cell_type": "markdown",
   "id": "3f070fd0",
   "metadata": {},
   "source": [
    "<h3>Step 2: Conduct a Paired Samples T-Test.</h3>\n",
    "\n",
    "<p>Next, we’ll use the ttest_rel() function from the scipy.stats library to conduct a paired samples t-test, which uses the following syntax:</p>\n",
    "<pre>\n",
    "ttest_rel(a, b)\n",
    "</pre>\n",
    "<p>where:</p>\n",
    "<ul>\n",
    "  <li>a: an array of sample observations from group 1</li>\n",
    "  <li>b: an array of sample observations from group 2</li>\n",
    "</ul>\n",
    "<p>Here’s how to use this function in our specific example:</p>"
   ]
  },
  {
   "cell_type": "code",
   "execution_count": 2,
   "id": "834e488f",
   "metadata": {},
   "outputs": [
    {
     "data": {
      "text/plain": [
       "Ttest_relResult(statistic=-2.9732484231168796, pvalue=0.01007144862643272)"
      ]
     },
     "execution_count": 2,
     "metadata": {},
     "output_type": "execute_result"
    }
   ],
   "source": [
    "import scipy.stats as stats\n",
    "#perform the paired samples t-test\n",
    "stats.ttest_rel(pre, post)"
   ]
  },
  {
   "cell_type": "markdown",
   "id": "0591c7ac",
   "metadata": {},
   "source": [
    "<p>The test statistic is -2.9732 and the corresponding two-sided p-value is 0.0101.</p>\n",
    "\n",
    "<h3>Step 3: Interpret the results.</h3>\n",
    "\n",
    "<p>In this example, the paired samples t-test uses the following null and alternative hypotheses:</p>\n",
    "<ul>\n",
    "   <li>H0: The mean pre-test and post-test scores are equal</li>\n",
    "\n",
    "   <li>HA:The mean pre-test and post-test scores are not equal</li>\n",
    "</ul>\n",
    "<p>Since the p-value (0.0101) is less than 0.05, we reject the null hypothesis. We have sufficient evidence to say that the true mean test score is different for students before and after participating in the study program.</p>"
   ]
  },
  {
   "cell_type": "markdown",
   "id": "ea711cdd",
   "metadata": {},
   "source": [
    "<h2>How to Perform a Shapiro-Wilk Test</h2>\n",
    "<p>The Shapiro-Wilk test is a test of normality. It is used to determine whether or not a sample comes from a normal distribution.</p>\n",
    "\n",
    "<p>To perform a Shapiro-Wilk test in Python we can use the scipy.stats.shapiro() function, which takes on the following syntax:</p>\n",
    "<pre>\n",
    "scipy.stats.shapiro(x)\n",
    "</pre>\n",
    "<p>where:</p>\n",
    "<p>x: An array of sample data.</p>\n",
    "<p>This function returns a test statistic and a corresponding p-value. If the p-value is below a certain significance level, then we have sufficient evidence to say that the sample data does not come from a normal distribution.</p>\n",
    "\n",
    "<p>This tutorial shows a couple examples of how to use this function in practice.</p>\n",
    "<p>The following code shows how to perform a Shapiro-Wilk test on pre data to determine if it came from a normal distribution:</p>"
   ]
  },
  {
   "cell_type": "code",
   "execution_count": 3,
   "id": "27760e0f",
   "metadata": {},
   "outputs": [
    {
     "data": {
      "text/plain": [
       "ShapiroResult(statistic=0.9618234634399414, pvalue=0.7240561842918396)"
      ]
     },
     "execution_count": 3,
     "metadata": {},
     "output_type": "execute_result"
    }
   ],
   "source": [
    "import scipy.stats as stats\n",
    "#perform Shapiro-Wilk test\n",
    "stats.shapiro(pre)"
   ]
  },
  {
   "cell_type": "markdown",
   "id": "e8fff6b0",
   "metadata": {},
   "source": [
    "<p>From the output we can see that the test statistic is 0.9618 and the corresponding p-value is 0.7241.</p>\n",
    "\n",
    "<p>Since the p-value is not less than 0.05, we fail to reject the null hypothesis. We do not have sufficient evidence to say that the sample data does not come from a normal distribution.</p>"
   ]
  },
  {
   "cell_type": "code",
   "execution_count": 4,
   "id": "82ca9bdd",
   "metadata": {},
   "outputs": [
    {
     "data": {
      "text/plain": [
       "ShapiroResult(statistic=0.9243801832199097, pvalue=0.224565327167511)"
      ]
     },
     "execution_count": 4,
     "metadata": {},
     "output_type": "execute_result"
    }
   ],
   "source": [
    "stats.shapiro(post)"
   ]
  },
  {
   "cell_type": "markdown",
   "id": "a0ea7812",
   "metadata": {},
   "source": [
    "<p>From the output we can see that the test statistic is 0.924 and the corresponding p-value is 0.2246.</p>\n",
    "\n",
    "<p>Since the p-value is not less than 0.05, we fail to reject the null hypothesis. We do not have sufficient evidence to say that the sample data does not come from a normal distribution.</p>"
   ]
  },
  {
   "cell_type": "markdown",
   "id": "689df645",
   "metadata": {},
   "source": [
    "<h2>How to Perform Bartlett’s Test</h2>\n",
    "<p>Bartlett’s test is a statistical test that is used to determine whether or not the variances between several groups are equal.</p>\n",
    "\n",
    "<p>Many statistical tests (like a one-way ANOVA) assume that variances are equal across samples. Bartlett’s test can be used to verify that assumption. This test uses the following null and alternative hypotheses:</p>\n",
    "<ul>\n",
    "   <li>H0: The variance among each group is equal.</li>\n",
    "   <li>HA: At least one group has a variance that is not equal to the rest.</li>\n",
    "</ul>\n",
    "<p>The test statistic follows a Chi-Square distribution with k-1 degrees of freedom where k is the number of groups.</p>\n",
    "\n",
    "<p>If the corresponding p-value of the test statistic is less than some significance level (like α = .05) then we can reject the null hypothesis and conclude that not all groups have the same variance.</p>\n",
    "\n",
    "<p>The following step-by-step example explains how to perform Bartlett’s test in Python.</p>"
   ]
  },
  {
   "cell_type": "code",
   "execution_count": 5,
   "id": "c14c9929",
   "metadata": {},
   "outputs": [
    {
     "data": {
      "text/plain": [
       "BartlettResult(statistic=0.7608658798370089, pvalue=0.3830576835574586)"
      ]
     },
     "execution_count": 5,
     "metadata": {},
     "output_type": "execute_result"
    }
   ],
   "source": [
    "import scipy.stats as stats\n",
    "\n",
    "#perform Bartlett's test \n",
    "stats.bartlett(pre,post)"
   ]
  },
  {
   "cell_type": "markdown",
   "id": "7a0cae69",
   "metadata": {},
   "source": [
    "<p>The test returns the following results:</p>\n",
    "<ul>\n",
    "   <li>Test statistic B: 0.7609</li>\n",
    "   <li>P-value: 0.3831</li>\n",
    "</ul>\n",
    "\n",
    "<p>Since the p-value is not less than 0.05, we will fail to reject the null hypothesis. In other words, we don’t have sufficient evidence to say that the two groups have different variances.</p>"
   ]
  },
  {
   "cell_type": "code",
   "execution_count": null,
   "id": "a2d387b2",
   "metadata": {},
   "outputs": [],
   "source": []
  }
 ],
 "metadata": {
  "kernelspec": {
   "display_name": "Python 3",
   "language": "python",
   "name": "python3"
  },
  "language_info": {
   "codemirror_mode": {
    "name": "ipython",
    "version": 3
   },
   "file_extension": ".py",
   "mimetype": "text/x-python",
   "name": "python",
   "nbconvert_exporter": "python",
   "pygments_lexer": "ipython3",
   "version": "3.6.6"
  }
 },
 "nbformat": 4,
 "nbformat_minor": 5
}
